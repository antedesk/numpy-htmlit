{
  "nbformat": 4,
  "nbformat_minor": 0,
  "metadata": {
    "colab": {
      "name": "lesson6-slicing-array-indexing.ipynb",
      "provenance": [],
      "collapsed_sections": [
        "duhLaaFr2NZ3",
        "GiPcVD0j8OmO",
        "tqu1dY4GijzT"
      ],
      "authorship_tag": "ABX9TyP7KIfNJEaWV64OpKt5G6Ki"
    },
    "kernelspec": {
      "name": "python3",
      "display_name": "Python 3"
    },
    "language_info": {
      "name": "python"
    }
  },
  "cells": [
    {
      "cell_type": "code",
      "metadata": {
        "id": "mn7Izqh9pVFb"
      },
      "source": [
        "import numpy as np"
      ],
      "execution_count": 1,
      "outputs": []
    },
    {
      "cell_type": "markdown",
      "metadata": {
        "id": "duhLaaFr2NZ3"
      },
      "source": [
        "### ndarray access and indexing"
      ]
    },
    {
      "cell_type": "code",
      "metadata": {
        "colab": {
          "base_uri": "https://localhost:8080/"
        },
        "id": "f7YbKFMype62",
        "outputId": "b87351f7-e8a8-4970-b42b-aa843ceefbde"
      },
      "source": [
        "# 1D ndarray\n",
        "vect = np.array([1, 2, 3, 4])\n",
        "vect[2]"
      ],
      "execution_count": 30,
      "outputs": [
        {
          "output_type": "execute_result",
          "data": {
            "text/plain": [
              "3"
            ]
          },
          "metadata": {
            "tags": []
          },
          "execution_count": 30
        }
      ]
    },
    {
      "cell_type": "code",
      "metadata": {
        "colab": {
          "base_uri": "https://localhost:8080/"
        },
        "id": "Bz2Ur1ep2GJT",
        "outputId": "7d7f14a5-deaf-46e6-a7e6-fa91d7c17024"
      },
      "source": [
        "# 2D ndarray\n",
        "matrix = np.random.randint(1, 13, (3,3))\n",
        "matrix[1][2]"
      ],
      "execution_count": 31,
      "outputs": [
        {
          "output_type": "execute_result",
          "data": {
            "text/plain": [
              "3"
            ]
          },
          "metadata": {
            "tags": []
          },
          "execution_count": 31
        }
      ]
    },
    {
      "cell_type": "code",
      "metadata": {
        "colab": {
          "base_uri": "https://localhost:8080/"
        },
        "id": "J-fETFki240j",
        "outputId": "a4da2ec5-2ac8-4613-ae62-8daca64a0723"
      },
      "source": [
        "# 3D ndarray\n",
        "tensor = np.random.randint(1,100, (4,4,4))\n",
        "tensor[1][3][2]"
      ],
      "execution_count": 32,
      "outputs": [
        {
          "output_type": "execute_result",
          "data": {
            "text/plain": [
              "38"
            ]
          },
          "metadata": {
            "tags": []
          },
          "execution_count": 32
        }
      ]
    },
    {
      "cell_type": "code",
      "metadata": {
        "colab": {
          "base_uri": "https://localhost:8080/"
        },
        "id": "J1VMVJvl4Jv5",
        "outputId": "7da8b000-3ad2-48e2-8296-12bf2fcb26a2"
      },
      "source": [
        "tensor"
      ],
      "execution_count": 33,
      "outputs": [
        {
          "output_type": "execute_result",
          "data": {
            "text/plain": [
              "array([[[44, 34, 89, 23],\n",
              "        [40, 98, 62, 85],\n",
              "        [50, 24, 63, 36],\n",
              "        [47, 37, 83, 71]],\n",
              "\n",
              "       [[59, 38, 76, 82],\n",
              "        [99, 89, 70, 51],\n",
              "        [30, 17, 64, 52],\n",
              "        [35, 24, 38, 73]],\n",
              "\n",
              "       [[73, 28, 40, 50],\n",
              "        [48, 51, 67, 81],\n",
              "        [88, 81, 87, 57],\n",
              "        [ 9, 65, 59,  7]],\n",
              "\n",
              "       [[32, 18,  9, 55],\n",
              "        [43,  3, 53, 96],\n",
              "        [30, 91, 60, 53],\n",
              "        [82, 15, 98, 68]]])"
            ]
          },
          "metadata": {
            "tags": []
          },
          "execution_count": 33
        }
      ]
    },
    {
      "cell_type": "code",
      "metadata": {
        "colab": {
          "base_uri": "https://localhost:8080/"
        },
        "id": "nf6VIGKl4muN",
        "outputId": "882e3515-34e5-40b2-c91e-b60ec51e0d59"
      },
      "source": [
        "# negative indexing on matrix\n",
        "m = np.array([[1,2,3], [4,5,6], [7,8,9]])\n",
        "#get last element of the second row\n",
        "m[1][-1]"
      ],
      "execution_count": 34,
      "outputs": [
        {
          "output_type": "execute_result",
          "data": {
            "text/plain": [
              "6"
            ]
          },
          "metadata": {
            "tags": []
          },
          "execution_count": 34
        }
      ]
    },
    {
      "cell_type": "code",
      "metadata": {
        "colab": {
          "base_uri": "https://localhost:8080/"
        },
        "id": "7wJGRjuV54qK",
        "outputId": "0099b33b-07a9-4261-ddb9-ab04d48f86af"
      },
      "source": [
        "# negative indexing on tensor\n",
        "tensor[-1][2][3]"
      ],
      "execution_count": 35,
      "outputs": [
        {
          "output_type": "execute_result",
          "data": {
            "text/plain": [
              "53"
            ]
          },
          "metadata": {
            "tags": []
          },
          "execution_count": 35
        }
      ]
    },
    {
      "cell_type": "markdown",
      "metadata": {
        "id": "GiPcVD0j8OmO"
      },
      "source": [
        "### slicing\n",
        "\n",
        "The basic slice syntax is `i:j:k` where: \n",
        "- `i` is the starting index\n",
        "- `j` is the stopping index \n",
        "- `k` is the step \n",
        "\n",
        "This values can be positive or negative.\n",
        "\n",
        "Let's see some examples"
      ]
    },
    {
      "cell_type": "code",
      "metadata": {
        "colab": {
          "base_uri": "https://localhost:8080/"
        },
        "id": "LzfXE7396mAH",
        "outputId": "840579e1-2e0c-492a-ce8f-c54980c03378"
      },
      "source": [
        "v = np.array([0, 1, 2, 3, 4, 5, 6, 7, 8, 9])\n",
        "v[1:8:2]"
      ],
      "execution_count": 36,
      "outputs": [
        {
          "output_type": "execute_result",
          "data": {
            "text/plain": [
              "array([1, 3, 5, 7])"
            ]
          },
          "metadata": {
            "tags": []
          },
          "execution_count": 36
        }
      ]
    },
    {
      "cell_type": "markdown",
      "metadata": {
        "id": "zZUnD0mi9Q94"
      },
      "source": [
        "Negative `i` and `j` are interpreted as `n+i` and `n+j` where `n` is the number of elements in the corresponding dimension. \n"
      ]
    },
    {
      "cell_type": "code",
      "metadata": {
        "colab": {
          "base_uri": "https://localhost:8080/"
        },
        "id": "_3gkiW0c8Tj_",
        "outputId": "df5fc2c6-11f2-4877-8d05-b90f0f1c65b2"
      },
      "source": [
        "v[-3:9]"
      ],
      "execution_count": 37,
      "outputs": [
        {
          "output_type": "execute_result",
          "data": {
            "text/plain": [
              "array([7, 8])"
            ]
          },
          "metadata": {
            "tags": []
          },
          "execution_count": 37
        }
      ]
    },
    {
      "cell_type": "code",
      "metadata": {
        "colab": {
          "base_uri": "https://localhost:8080/"
        },
        "id": "gSIU1vyZ8mA6",
        "outputId": "b56b59fa-58d9-4bc6-8e89-185e8d30faca"
      },
      "source": [
        "v[-3:3:-1]"
      ],
      "execution_count": 38,
      "outputs": [
        {
          "output_type": "execute_result",
          "data": {
            "text/plain": [
              "array([7, 6, 5, 4])"
            ]
          },
          "metadata": {
            "tags": []
          },
          "execution_count": 38
        }
      ]
    },
    {
      "cell_type": "code",
      "metadata": {
        "colab": {
          "base_uri": "https://localhost:8080/"
        },
        "id": "rYbgQBqn9VJE",
        "outputId": "141bad2c-e0cb-42cf-f9c1-762c4588160c"
      },
      "source": [
        "v[-1]"
      ],
      "execution_count": 39,
      "outputs": [
        {
          "output_type": "execute_result",
          "data": {
            "text/plain": [
              "9"
            ]
          },
          "metadata": {
            "tags": []
          },
          "execution_count": 39
        }
      ]
    },
    {
      "cell_type": "code",
      "metadata": {
        "colab": {
          "base_uri": "https://localhost:8080/"
        },
        "id": "oGu84YlJ9c8v",
        "outputId": "a79719fd-6847-4405-c6bb-eb41dcec7adb"
      },
      "source": [
        "v[-3:3:-1]"
      ],
      "execution_count": 40,
      "outputs": [
        {
          "output_type": "execute_result",
          "data": {
            "text/plain": [
              "array([7, 6, 5, 4])"
            ]
          },
          "metadata": {
            "tags": []
          },
          "execution_count": 40
        }
      ]
    },
    {
      "cell_type": "code",
      "metadata": {
        "colab": {
          "base_uri": "https://localhost:8080/"
        },
        "id": "1g5PKMwa_BTo",
        "outputId": "24a1df67-510a-4acc-f4d4-4c8b1d9711f5"
      },
      "source": [
        "v[6:]"
      ],
      "execution_count": 41,
      "outputs": [
        {
          "output_type": "execute_result",
          "data": {
            "text/plain": [
              "array([6, 7, 8, 9])"
            ]
          },
          "metadata": {
            "tags": []
          },
          "execution_count": 41
        }
      ]
    },
    {
      "cell_type": "code",
      "metadata": {
        "colab": {
          "base_uri": "https://localhost:8080/"
        },
        "id": "yPEdipKyDAhz",
        "outputId": "c8c4d5c0-86cc-42e8-de74-8608a35bd226"
      },
      "source": [
        "#all the elements that are in the 2nd through 4th rows and in the 3rd to 5th columns\n",
        "m = np.arange(20).reshape(4, 5)\n",
        "m[1:4,2:5]"
      ],
      "execution_count": 42,
      "outputs": [
        {
          "output_type": "execute_result",
          "data": {
            "text/plain": [
              "array([[ 7,  8,  9],\n",
              "       [12, 13, 14],\n",
              "       [17, 18, 19]])"
            ]
          },
          "metadata": {
            "tags": []
          },
          "execution_count": 42
        }
      ]
    },
    {
      "cell_type": "code",
      "metadata": {
        "colab": {
          "base_uri": "https://localhost:8080/"
        },
        "id": "5oFOUOvZDYNi",
        "outputId": "44c685ba-5b5c-40ad-c08d-0a6386d378a9"
      },
      "source": [
        "#select all the elements that are in the 1st through 3rd rows and in the 3rd to 4th columns\n",
        "m[:3,2:5]"
      ],
      "execution_count": 43,
      "outputs": [
        {
          "output_type": "execute_result",
          "data": {
            "text/plain": [
              "array([[ 2,  3,  4],\n",
              "       [ 7,  8,  9],\n",
              "       [12, 13, 14]])"
            ]
          },
          "metadata": {
            "tags": []
          },
          "execution_count": 43
        }
      ]
    },
    {
      "cell_type": "markdown",
      "metadata": {
        "id": "zq8HjPGbdFGB"
      },
      "source": [
        "### Ellipsis"
      ]
    },
    {
      "cell_type": "markdown",
      "metadata": {
        "id": "2KXUkpie-2wf"
      },
      "source": [
        "`Ellipsis` expands to the number of `:` objects needed for the selection tuple to index all dimensions. \n",
        "\n",
        "In most cases, this means that length of the expanded selection tuple is `x.ndim`. There may only be a single ellipsis present."
      ]
    },
    {
      "cell_type": "code",
      "metadata": {
        "colab": {
          "base_uri": "https://localhost:8080/"
        },
        "id": "ZP-8pjhb9mBr",
        "outputId": "ec50560e-9a48-47c6-cbbe-20054827b7fe"
      },
      "source": [
        "m[...,0]"
      ],
      "execution_count": 22,
      "outputs": [
        {
          "output_type": "execute_result",
          "data": {
            "text/plain": [
              "array([1, 4, 7])"
            ]
          },
          "metadata": {
            "tags": []
          },
          "execution_count": 22
        }
      ]
    },
    {
      "cell_type": "code",
      "metadata": {
        "colab": {
          "base_uri": "https://localhost:8080/"
        },
        "id": "0qRIKpRy-D4l",
        "outputId": "1ca8ae4f-c1ad-47d7-ce09-1c6696932c1c"
      },
      "source": [
        "m[2,...]"
      ],
      "execution_count": 23,
      "outputs": [
        {
          "output_type": "execute_result",
          "data": {
            "text/plain": [
              "array([7, 8, 9])"
            ]
          },
          "metadata": {
            "tags": []
          },
          "execution_count": 23
        }
      ]
    },
    {
      "cell_type": "code",
      "metadata": {
        "colab": {
          "base_uri": "https://localhost:8080/"
        },
        "id": "DZuDkGel_wN6",
        "outputId": "a152f3fe-8b1a-4503-9e5f-dc2969fce583"
      },
      "source": [
        "# get first col of each tensor's matrix\n",
        "tensor[...,0]"
      ],
      "execution_count": 24,
      "outputs": [
        {
          "output_type": "execute_result",
          "data": {
            "text/plain": [
              "array([[ 3, 17, 96, 98],\n",
              "       [87, 25, 91, 29],\n",
              "       [45, 74, 17, 24],\n",
              "       [70,  5, 24, 88]])"
            ]
          },
          "metadata": {
            "tags": []
          },
          "execution_count": 24
        }
      ]
    },
    {
      "cell_type": "code",
      "metadata": {
        "colab": {
          "base_uri": "https://localhost:8080/"
        },
        "id": "3eIJLm8hBaeK",
        "outputId": "2631aeb6-16bc-4c01-c01a-4858a00c639a"
      },
      "source": [
        "# get first tensor's matrix\n",
        "tensor[0,...]"
      ],
      "execution_count": 25,
      "outputs": [
        {
          "output_type": "execute_result",
          "data": {
            "text/plain": [
              "array([[ 3,  2, 29, 56],\n",
              "       [17, 46, 47, 87],\n",
              "       [96, 51, 54, 21],\n",
              "       [98, 97, 19, 38]])"
            ]
          },
          "metadata": {
            "tags": []
          },
          "execution_count": 25
        }
      ]
    },
    {
      "cell_type": "code",
      "metadata": {
        "colab": {
          "base_uri": "https://localhost:8080/"
        },
        "id": "mI-ZUZxE_zka",
        "outputId": "2426ecb4-5eb5-49da-e844-2ad901c0b481"
      },
      "source": [
        "tensor[1,...,2]"
      ],
      "execution_count": 26,
      "outputs": [
        {
          "output_type": "execute_result",
          "data": {
            "text/plain": [
              "array([56, 52, 16, 90])"
            ]
          },
          "metadata": {
            "tags": []
          },
          "execution_count": 26
        }
      ]
    },
    {
      "cell_type": "code",
      "metadata": {
        "colab": {
          "base_uri": "https://localhost:8080/"
        },
        "id": "TJ8eVQCF_4kK",
        "outputId": "5b52205e-0bdb-49ec-99f4-503e14fc26c2"
      },
      "source": [
        "# the equivalent\n",
        "tensor[1,:,2]"
      ],
      "execution_count": 27,
      "outputs": [
        {
          "output_type": "execute_result",
          "data": {
            "text/plain": [
              "array([56, 52, 16, 90])"
            ]
          },
          "metadata": {
            "tags": []
          },
          "execution_count": 27
        }
      ]
    },
    {
      "cell_type": "markdown",
      "metadata": {
        "id": "UYIuhoBWRjQM"
      },
      "source": [
        "### Copy ndarray\n"
      ]
    },
    {
      "cell_type": "markdown",
      "metadata": {
        "id": "tQzMDJbQEQlC"
      },
      "source": [
        "if we want to create a new `ndarray` that contains a copy of the values in the slice we need to use the `np.copy()` function. The `np.copy(ndarray)` function creates a copy of the given `ndarray`. "
      ]
    },
    {
      "cell_type": "code",
      "metadata": {
        "id": "z_RdXhspBJkk"
      },
      "source": [
        "\n",
        "X = np.copy(m[1:4,2:5])"
      ],
      "execution_count": 44,
      "outputs": []
    },
    {
      "cell_type": "code",
      "metadata": {
        "id": "shl8hVy6EZsY"
      },
      "source": [
        "X[2,2] = 555"
      ],
      "execution_count": 45,
      "outputs": []
    },
    {
      "cell_type": "code",
      "metadata": {
        "colab": {
          "base_uri": "https://localhost:8080/"
        },
        "id": "yMs5bF_-Ed-a",
        "outputId": "66ec7767-e7ca-47e4-9d72-2bf1ee1781ed"
      },
      "source": [
        "print(f'{X[2,2]} != {m[2,2]}')"
      ],
      "execution_count": 46,
      "outputs": [
        {
          "output_type": "stream",
          "text": [
            "555 != 12\n"
          ],
          "name": "stdout"
        }
      ]
    },
    {
      "cell_type": "code",
      "metadata": {
        "id": "ekUYXgipEmOS"
      },
      "source": [
        "x=m[1:4,2:5]"
      ],
      "execution_count": 47,
      "outputs": []
    },
    {
      "cell_type": "code",
      "metadata": {
        "colab": {
          "base_uri": "https://localhost:8080/"
        },
        "id": "7qN_zERmE20f",
        "outputId": "45e6a81d-61b3-4d0f-997f-ffe9a693c241"
      },
      "source": [
        "m[2,2] =213456\n",
        "print(f'{x[1,0]} != {m[2,2]}')"
      ],
      "execution_count": 48,
      "outputs": [
        {
          "output_type": "stream",
          "text": [
            "213456 != 213456\n"
          ],
          "name": "stdout"
        }
      ]
    },
    {
      "cell_type": "markdown",
      "metadata": {
        "id": "tqu1dY4GijzT"
      },
      "source": [
        "#### Slicing vs Indexing"
      ]
    },
    {
      "cell_type": "code",
      "metadata": {
        "colab": {
          "base_uri": "https://localhost:8080/"
        },
        "id": "jVrVYmCpimj2",
        "outputId": "a76cbcf2-4a56-4a05-9ce1-70d0cd9aa08c"
      },
      "source": [
        "#indexing\n",
        "m = np.array([[10, 11, 12, 13, 14],\n",
        "               [15, 16, 17, 18, 19],\n",
        "               [20, 21, 22, 23, 24],\n",
        "               [25, 26, 27, 28, 29]])\n",
        "\n",
        "print(m[1,2:4])  "
      ],
      "execution_count": 49,
      "outputs": [
        {
          "output_type": "stream",
          "text": [
            "[17 18]\n"
          ],
          "name": "stdout"
        }
      ]
    },
    {
      "cell_type": "code",
      "metadata": {
        "colab": {
          "base_uri": "https://localhost:8080/"
        },
        "id": "YCS6L8ynisaf",
        "outputId": "214c7ab8-ce67-4ebf-df64-5f883f2e29da"
      },
      "source": [
        "#slicing\n",
        "print(m[1:2,2:4])"
      ],
      "execution_count": 50,
      "outputs": [
        {
          "output_type": "stream",
          "text": [
            "[[17 18]]\n"
          ],
          "name": "stdout"
        }
      ]
    },
    {
      "cell_type": "markdown",
      "metadata": {
        "id": "3PSAHjXbFgCT"
      },
      "source": [
        "### Boolean indexing"
      ]
    },
    {
      "cell_type": "code",
      "metadata": {
        "id": "Pmphbu_QFK5r"
      },
      "source": [
        "# 5 x 5 ndarray that contains integers from 0 to 24\n",
        "matrix = np.arange(25).reshape(5, 5)"
      ],
      "execution_count": 51,
      "outputs": []
    },
    {
      "cell_type": "code",
      "metadata": {
        "colab": {
          "base_uri": "https://localhost:8080/"
        },
        "id": "gvXF1Wz3dMLO",
        "outputId": "29b9fb69-ceea-49d1-faf1-3cd21394a78d"
      },
      "source": [
        "# We use Boolean indexing to select elements in matrix:\n",
        "print('The elements in matrix that are greater than 10:', matrix[matrix > 10])\n",
        "print('The elements in matrix that less than or equal to 7:', matrix[matrix <= 7])\n",
        "print('The elements in matrix that are between 9 and 15:', matrix[(matrix > 9) & (matrix < 15)])"
      ],
      "execution_count": 55,
      "outputs": [
        {
          "output_type": "stream",
          "text": [
            "The elements in matrix that are greater than 10: [15 16 17 18 19 20 21 22 23 24]\n",
            "The elements in matrix that less than or equal to 7: [ 0  1  2  3  4  5  6  7 -1 -1 -1 -1 -1]\n",
            "The elements in matrix that are between 9 and 15: []\n"
          ],
          "name": "stdout"
        }
      ]
    },
    {
      "cell_type": "code",
      "metadata": {
        "colab": {
          "base_uri": "https://localhost:8080/"
        },
        "id": "mzy3-ys0gWLl",
        "outputId": "870f508d-efcf-49ea-9900-47e0c84409c9"
      },
      "source": [
        "# We use Boolean indexing to assign the elements that are between 10 and 17 the value of -1\n",
        "matrix[(matrix > 9) & (matrix < 15)] = -1\n",
        "matrix"
      ],
      "execution_count": 56,
      "outputs": [
        {
          "output_type": "execute_result",
          "data": {
            "text/plain": [
              "array([[ 0,  1,  2,  3,  4],\n",
              "       [ 5,  6,  7,  8,  9],\n",
              "       [-1, -1, -1, -1, -1],\n",
              "       [15, 16, 17, 18, 19],\n",
              "       [20, 21, 22, 23, 24]])"
            ]
          },
          "metadata": {
            "tags": []
          },
          "execution_count": 56
        }
      ]
    },
    {
      "cell_type": "code",
      "metadata": {
        "colab": {
          "base_uri": "https://localhost:8080/"
        },
        "id": "MMkuytdKgYtw",
        "outputId": "538c5b4d-a509-42e6-ba53-415e78b16cd8"
      },
      "source": [
        "my_mask=(matrix > 10) & (matrix < 17)\n",
        "matrix[my_mask]"
      ],
      "execution_count": 57,
      "outputs": [
        {
          "output_type": "execute_result",
          "data": {
            "text/plain": [
              "array([15, 16])"
            ]
          },
          "metadata": {
            "tags": []
          },
          "execution_count": 57
        }
      ]
    },
    {
      "cell_type": "code",
      "metadata": {
        "id": "mY3Cp5GZS9Ws"
      },
      "source": [
        ""
      ],
      "execution_count": null,
      "outputs": []
    }
  ]
}