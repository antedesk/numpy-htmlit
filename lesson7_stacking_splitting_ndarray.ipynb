{
  "nbformat": 4,
  "nbformat_minor": 0,
  "metadata": {
    "colab": {
      "name": "lesson7-stacking_splitting_ndarray.ipynb",
      "provenance": [],
      "collapsed_sections": [],
      "authorship_tag": "ABX9TyO9oEcFVB6+Ujh2i2bMRLxN"
    },
    "kernelspec": {
      "name": "python3",
      "display_name": "Python 3"
    },
    "language_info": {
      "name": "python"
    }
  },
  "cells": [
    {
      "cell_type": "code",
      "metadata": {
        "id": "n0FlHnKMzHbi"
      },
      "source": [
        "import numpy as np"
      ],
      "execution_count": 1,
      "outputs": []
    },
    {
      "cell_type": "markdown",
      "metadata": {
        "id": "djdOlUslJT99"
      },
      "source": [
        "## Stacking"
      ]
    },
    {
      "cell_type": "code",
      "metadata": {
        "id": "o3RaxC4nJXM3"
      },
      "source": [
        "a = np.array([[1,2],[3,4]]) \n",
        "b = np.array([[5,6],[7,8]]) \n",
        "v1 = np.array((1,2,3))\n",
        "v2 = np.array((4,5,6))"
      ],
      "execution_count": 2,
      "outputs": []
    },
    {
      "cell_type": "markdown",
      "metadata": {
        "id": "IokSdH_ZJX8r"
      },
      "source": [
        "### stack() ndarrays "
      ]
    },
    {
      "cell_type": "code",
      "metadata": {
        "colab": {
          "base_uri": "https://localhost:8080/"
        },
        "id": "J_lw2JFVLmZO",
        "outputId": "71cdad6b-201a-4c2f-df8f-23b893f62c6f"
      },
      "source": [
        "np.stack((v1,v2),axis=0)"
      ],
      "execution_count": 3,
      "outputs": [
        {
          "output_type": "execute_result",
          "data": {
            "text/plain": [
              "array([[1, 2, 3],\n",
              "       [4, 5, 6]])"
            ]
          },
          "metadata": {
            "tags": []
          },
          "execution_count": 3
        }
      ]
    },
    {
      "cell_type": "code",
      "metadata": {
        "colab": {
          "base_uri": "https://localhost:8080/"
        },
        "id": "5kBCBky0LqHj",
        "outputId": "dc088d96-5254-4d1f-ff3b-77c9f29f94a8"
      },
      "source": [
        "np.stack((v1,v2),axis=1)"
      ],
      "execution_count": 4,
      "outputs": [
        {
          "output_type": "execute_result",
          "data": {
            "text/plain": [
              "array([[1, 4],\n",
              "       [2, 5],\n",
              "       [3, 6]])"
            ]
          },
          "metadata": {
            "tags": []
          },
          "execution_count": 4
        }
      ]
    },
    {
      "cell_type": "code",
      "metadata": {
        "colab": {
          "base_uri": "https://localhost:8080/"
        },
        "id": "c2lKePHsJ0KQ",
        "outputId": "b144fa0c-a376-49cd-e347-d2fdfaadaa6f"
      },
      "source": [
        "np.stack((a,b),axis=0)"
      ],
      "execution_count": 5,
      "outputs": [
        {
          "output_type": "execute_result",
          "data": {
            "text/plain": [
              "array([[[1, 2],\n",
              "        [3, 4]],\n",
              "\n",
              "       [[5, 6],\n",
              "        [7, 8]]])"
            ]
          },
          "metadata": {
            "tags": []
          },
          "execution_count": 5
        }
      ]
    },
    {
      "cell_type": "code",
      "metadata": {
        "colab": {
          "base_uri": "https://localhost:8080/"
        },
        "id": "DxvKFPDhJz5v",
        "outputId": "2e24a56b-d808-4d91-e765-98c6d005fd99"
      },
      "source": [
        "np.stack((a,b),axis=1)"
      ],
      "execution_count": 6,
      "outputs": [
        {
          "output_type": "execute_result",
          "data": {
            "text/plain": [
              "array([[[1, 2],\n",
              "        [5, 6]],\n",
              "\n",
              "       [[3, 4],\n",
              "        [7, 8]]])"
            ]
          },
          "metadata": {
            "tags": []
          },
          "execution_count": 6
        }
      ]
    },
    {
      "cell_type": "markdown",
      "metadata": {
        "id": "S_k1Aq5CJeOd"
      },
      "source": [
        "### vstack() ndarrays "
      ]
    },
    {
      "cell_type": "code",
      "metadata": {
        "colab": {
          "base_uri": "https://localhost:8080/"
        },
        "id": "IJsxGmIIJhPS",
        "outputId": "1f8a0774-d7ce-49fb-edf7-c66c133e3a8f"
      },
      "source": [
        "np.vstack((a,b))"
      ],
      "execution_count": 7,
      "outputs": [
        {
          "output_type": "execute_result",
          "data": {
            "text/plain": [
              "array([[1, 2],\n",
              "       [3, 4],\n",
              "       [5, 6],\n",
              "       [7, 8]])"
            ]
          },
          "metadata": {
            "tags": []
          },
          "execution_count": 7
        }
      ]
    },
    {
      "cell_type": "markdown",
      "metadata": {
        "id": "ygxzHpNaJeoj"
      },
      "source": [
        "### hstack() ndarrays "
      ]
    },
    {
      "cell_type": "code",
      "metadata": {
        "colab": {
          "base_uri": "https://localhost:8080/"
        },
        "id": "1U6dP8yIJh6u",
        "outputId": "3efb8f62-6522-4888-d470-8155eaf4ffb2"
      },
      "source": [
        "np.hstack((a,b))"
      ],
      "execution_count": 8,
      "outputs": [
        {
          "output_type": "execute_result",
          "data": {
            "text/plain": [
              "array([[1, 2, 5, 6],\n",
              "       [3, 4, 7, 8]])"
            ]
          },
          "metadata": {
            "tags": []
          },
          "execution_count": 8
        }
      ]
    },
    {
      "cell_type": "markdown",
      "metadata": {
        "id": "6Saj7AuZJl9_"
      },
      "source": [
        "### dstack() ndarrays "
      ]
    },
    {
      "cell_type": "code",
      "metadata": {
        "colab": {
          "base_uri": "https://localhost:8080/"
        },
        "id": "S_BbARcSJmri",
        "outputId": "c2891e9f-0b5f-495f-ac57-c4c0452893a7"
      },
      "source": [
        "np.dstack((a,b))"
      ],
      "execution_count": 9,
      "outputs": [
        {
          "output_type": "execute_result",
          "data": {
            "text/plain": [
              "array([[[1, 5],\n",
              "        [2, 6]],\n",
              "\n",
              "       [[3, 7],\n",
              "        [4, 8]]])"
            ]
          },
          "metadata": {
            "tags": []
          },
          "execution_count": 9
        }
      ]
    },
    {
      "cell_type": "markdown",
      "metadata": {
        "id": "SYPg5_WT45pX"
      },
      "source": [
        "## Splitting"
      ]
    },
    {
      "cell_type": "markdown",
      "metadata": {
        "id": "065OGzAT7Sch"
      },
      "source": [
        "### 1D ndarray split()"
      ]
    },
    {
      "cell_type": "code",
      "metadata": {
        "colab": {
          "base_uri": "https://localhost:8080/"
        },
        "id": "2pCBO-FGzWNJ",
        "outputId": "b25dc0d6-a4d1-4c3d-f5b9-4531792192d1"
      },
      "source": [
        "x = np.arange(10)\n",
        "x"
      ],
      "execution_count": 10,
      "outputs": [
        {
          "output_type": "execute_result",
          "data": {
            "text/plain": [
              "array([0, 1, 2, 3, 4, 5, 6, 7, 8, 9])"
            ]
          },
          "metadata": {
            "tags": []
          },
          "execution_count": 10
        }
      ]
    },
    {
      "cell_type": "code",
      "metadata": {
        "colab": {
          "base_uri": "https://localhost:8080/"
        },
        "id": "WV14T1lV1jzX",
        "outputId": "fb6fda0f-030b-4a00-e483-9b7324fa4246"
      },
      "source": [
        "np.split(x, 5)"
      ],
      "execution_count": 11,
      "outputs": [
        {
          "output_type": "execute_result",
          "data": {
            "text/plain": [
              "[array([0, 1]), array([2, 3]), array([4, 5]), array([6, 7]), array([8, 9])]"
            ]
          },
          "metadata": {
            "tags": []
          },
          "execution_count": 11
        }
      ]
    },
    {
      "cell_type": "markdown",
      "metadata": {
        "id": "QpUI4X-L7WB7"
      },
      "source": [
        "### 2D ndarray split()"
      ]
    },
    {
      "cell_type": "code",
      "metadata": {
        "colab": {
          "base_uri": "https://localhost:8080/"
        },
        "id": "mUSo1hv25gqQ",
        "outputId": "0c33b16d-4e81-4c41-ca07-06ead5e0e271"
      },
      "source": [
        "np.split(x, [4, 6, 7])"
      ],
      "execution_count": 12,
      "outputs": [
        {
          "output_type": "execute_result",
          "data": {
            "text/plain": [
              "[array([0, 1, 2, 3]), array([4, 5]), array([6]), array([7, 8, 9])]"
            ]
          },
          "metadata": {
            "tags": []
          },
          "execution_count": 12
        }
      ]
    },
    {
      "cell_type": "code",
      "metadata": {
        "colab": {
          "base_uri": "https://localhost:8080/"
        },
        "id": "Cp0ijJC2538C",
        "outputId": "e2b134ef-2d62-4716-d443-62a47f8f0f5c"
      },
      "source": [
        "m = np.arange(16).reshape(4,4)\n",
        "m"
      ],
      "execution_count": 13,
      "outputs": [
        {
          "output_type": "execute_result",
          "data": {
            "text/plain": [
              "array([[ 0,  1,  2,  3],\n",
              "       [ 4,  5,  6,  7],\n",
              "       [ 8,  9, 10, 11],\n",
              "       [12, 13, 14, 15]])"
            ]
          },
          "metadata": {
            "tags": []
          },
          "execution_count": 13
        }
      ]
    },
    {
      "cell_type": "code",
      "metadata": {
        "colab": {
          "base_uri": "https://localhost:8080/"
        },
        "id": "u5aTJ_y07fkN",
        "outputId": "7ef2816b-0712-47a2-8ec6-5470ef2856fc"
      },
      "source": [
        "np.split(m, [1,3])"
      ],
      "execution_count": 14,
      "outputs": [
        {
          "output_type": "execute_result",
          "data": {
            "text/plain": [
              "[array([[0, 1, 2, 3]]), array([[ 4,  5,  6,  7],\n",
              "        [ 8,  9, 10, 11]]), array([[12, 13, 14, 15]])]"
            ]
          },
          "metadata": {
            "tags": []
          },
          "execution_count": 14
        }
      ]
    },
    {
      "cell_type": "markdown",
      "metadata": {
        "id": "OhOmi36R9eHt"
      },
      "source": [
        "### 2D ndarray array_split"
      ]
    },
    {
      "cell_type": "code",
      "metadata": {
        "colab": {
          "base_uri": "https://localhost:8080/"
        },
        "id": "LiynvhQH7f7D",
        "outputId": "49a5d199-2e8e-4eb0-88e9-725b2c503eae"
      },
      "source": [
        "m = np.arange(16).reshape(4,4)\n",
        "m"
      ],
      "execution_count": 15,
      "outputs": [
        {
          "output_type": "execute_result",
          "data": {
            "text/plain": [
              "array([[ 0,  1,  2,  3],\n",
              "       [ 4,  5,  6,  7],\n",
              "       [ 8,  9, 10, 11],\n",
              "       [12, 13, 14, 15]])"
            ]
          },
          "metadata": {
            "tags": []
          },
          "execution_count": 15
        }
      ]
    },
    {
      "cell_type": "code",
      "metadata": {
        "colab": {
          "base_uri": "https://localhost:8080/"
        },
        "id": "9oVemqyQ9jlH",
        "outputId": "b3f08bcd-3004-44de-af3d-d65261c3439d"
      },
      "source": [
        "np.array_split(m,3)"
      ],
      "execution_count": 16,
      "outputs": [
        {
          "output_type": "execute_result",
          "data": {
            "text/plain": [
              "[array([[0, 1, 2, 3],\n",
              "        [4, 5, 6, 7]]), array([[ 8,  9, 10, 11]]), array([[12, 13, 14, 15]])]"
            ]
          },
          "metadata": {
            "tags": []
          },
          "execution_count": 16
        }
      ]
    },
    {
      "cell_type": "markdown",
      "metadata": {
        "id": "2kHSWy2G_LiY"
      },
      "source": [
        "### 2d ndarray hsplit()"
      ]
    },
    {
      "cell_type": "code",
      "metadata": {
        "colab": {
          "base_uri": "https://localhost:8080/"
        },
        "id": "bX8WUY91_oXm",
        "outputId": "675207fd-1af0-44cd-d2f5-f597b07c511f"
      },
      "source": [
        "m1 = np.arange(20).reshape(5, 4)\n",
        "m1"
      ],
      "execution_count": 17,
      "outputs": [
        {
          "output_type": "execute_result",
          "data": {
            "text/plain": [
              "array([[ 0,  1,  2,  3],\n",
              "       [ 4,  5,  6,  7],\n",
              "       [ 8,  9, 10, 11],\n",
              "       [12, 13, 14, 15],\n",
              "       [16, 17, 18, 19]])"
            ]
          },
          "metadata": {
            "tags": []
          },
          "execution_count": 17
        }
      ]
    },
    {
      "cell_type": "code",
      "metadata": {
        "colab": {
          "base_uri": "https://localhost:8080/"
        },
        "id": "-uMP6Avd_q1F",
        "outputId": "5c34575a-9866-4187-ccaa-0a84b6df41c4"
      },
      "source": [
        "np.hsplit(m1,4)"
      ],
      "execution_count": 18,
      "outputs": [
        {
          "output_type": "execute_result",
          "data": {
            "text/plain": [
              "[array([[ 0],\n",
              "        [ 4],\n",
              "        [ 8],\n",
              "        [12],\n",
              "        [16]]), array([[ 1],\n",
              "        [ 5],\n",
              "        [ 9],\n",
              "        [13],\n",
              "        [17]]), array([[ 2],\n",
              "        [ 6],\n",
              "        [10],\n",
              "        [14],\n",
              "        [18]]), array([[ 3],\n",
              "        [ 7],\n",
              "        [11],\n",
              "        [15],\n",
              "        [19]])]"
            ]
          },
          "metadata": {
            "tags": []
          },
          "execution_count": 18
        }
      ]
    },
    {
      "cell_type": "markdown",
      "metadata": {
        "id": "dffPwGLS_D9n"
      },
      "source": [
        "### 2d ndarray vsplit()"
      ]
    },
    {
      "cell_type": "code",
      "metadata": {
        "colab": {
          "base_uri": "https://localhost:8080/"
        },
        "id": "CliHS078_NRO",
        "outputId": "ae741511-3fba-4902-cd11-5cd23b924e4e"
      },
      "source": [
        "m1 = np.arange(24).reshape(6, 4)\n",
        "m1"
      ],
      "execution_count": 19,
      "outputs": [
        {
          "output_type": "execute_result",
          "data": {
            "text/plain": [
              "array([[ 0,  1,  2,  3],\n",
              "       [ 4,  5,  6,  7],\n",
              "       [ 8,  9, 10, 11],\n",
              "       [12, 13, 14, 15],\n",
              "       [16, 17, 18, 19],\n",
              "       [20, 21, 22, 23]])"
            ]
          },
          "metadata": {
            "tags": []
          },
          "execution_count": 19
        }
      ]
    },
    {
      "cell_type": "code",
      "metadata": {
        "colab": {
          "base_uri": "https://localhost:8080/"
        },
        "id": "uEtd0g9r_bhH",
        "outputId": "2b99ed77-67a2-4fee-ba3b-44097cdc2944"
      },
      "source": [
        "np.vsplit(m1,3)"
      ],
      "execution_count": 20,
      "outputs": [
        {
          "output_type": "execute_result",
          "data": {
            "text/plain": [
              "[array([[0, 1, 2, 3],\n",
              "        [4, 5, 6, 7]]), array([[ 8,  9, 10, 11],\n",
              "        [12, 13, 14, 15]]), array([[16, 17, 18, 19],\n",
              "        [20, 21, 22, 23]])]"
            ]
          },
          "metadata": {
            "tags": []
          },
          "execution_count": 20
        }
      ]
    },
    {
      "cell_type": "markdown",
      "metadata": {
        "id": "MiaTKyhoEHXv"
      },
      "source": [
        "### 3D ndarray dsplit()"
      ]
    },
    {
      "cell_type": "code",
      "metadata": {
        "colab": {
          "base_uri": "https://localhost:8080/"
        },
        "id": "ABE9VIGtEOXJ",
        "outputId": "37a0254b-c2b6-4af6-f542-0357847c46d1"
      },
      "source": [
        "t = np.arange(24).reshape(2, 2, 6)\n",
        "t"
      ],
      "execution_count": 21,
      "outputs": [
        {
          "output_type": "execute_result",
          "data": {
            "text/plain": [
              "array([[[ 0,  1,  2,  3,  4,  5],\n",
              "        [ 6,  7,  8,  9, 10, 11]],\n",
              "\n",
              "       [[12, 13, 14, 15, 16, 17],\n",
              "        [18, 19, 20, 21, 22, 23]]])"
            ]
          },
          "metadata": {
            "tags": []
          },
          "execution_count": 21
        }
      ]
    },
    {
      "cell_type": "code",
      "metadata": {
        "colab": {
          "base_uri": "https://localhost:8080/"
        },
        "id": "f68k_bhxEUk7",
        "outputId": "458c202d-b95c-4981-e79a-62b9fc380bcd"
      },
      "source": [
        "np.dsplit(t, [2, 4])"
      ],
      "execution_count": 22,
      "outputs": [
        {
          "output_type": "execute_result",
          "data": {
            "text/plain": [
              "[array([[[ 0,  1],\n",
              "         [ 6,  7]],\n",
              " \n",
              "        [[12, 13],\n",
              "         [18, 19]]]), array([[[ 2,  3],\n",
              "         [ 8,  9]],\n",
              " \n",
              "        [[14, 15],\n",
              "         [20, 21]]]), array([[[ 4,  5],\n",
              "         [10, 11]],\n",
              " \n",
              "        [[16, 17],\n",
              "         [22, 23]]])]"
            ]
          },
          "metadata": {
            "tags": []
          },
          "execution_count": 22
        }
      ]
    },
    {
      "cell_type": "code",
      "metadata": {
        "id": "O2LoWPL7E7VY"
      },
      "source": [
        ""
      ],
      "execution_count": 22,
      "outputs": []
    }
  ]
}