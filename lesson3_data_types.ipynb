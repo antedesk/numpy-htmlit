{
  "nbformat": 4,
  "nbformat_minor": 0,
  "metadata": {
    "colab": {
      "name": "lesson3-data-types.ipynb",
      "provenance": [],
      "collapsed_sections": [],
      "toc_visible": true,
      "authorship_tag": "ABX9TyN/grh+WT10ONeKlvEGbFg7"
    },
    "kernelspec": {
      "name": "python3",
      "display_name": "Python 3"
    }
  },
  "cells": [
    {
      "cell_type": "markdown",
      "metadata": {
        "id": "RZ1DITunEVcK"
      },
      "source": [
        "# Lesson 3 - Data Types\n"
      ]
    },
    {
      "cell_type": "markdown",
      "metadata": {
        "id": "ClHPvfBVz15U"
      },
      "source": [
        "## Importing numpy"
      ]
    },
    {
      "cell_type": "code",
      "metadata": {
        "id": "2H9hGP6nEP7X"
      },
      "source": [
        "import numpy as np"
      ],
      "execution_count": 8,
      "outputs": []
    },
    {
      "cell_type": "markdown",
      "metadata": {
        "id": "DQfGXcRXz_YK"
      },
      "source": [
        "## Defintion of a dtype object"
      ]
    },
    {
      "cell_type": "code",
      "metadata": {
        "id": "ku9Q3TXdErAS"
      },
      "source": [
        "dt_int32 = np.dtype('int32')\n",
        "\n",
        "# equivalent alternative\n",
        "dt_int32_v2 = np.dtype(np.int32)"
      ],
      "execution_count": 24,
      "outputs": []
    },
    {
      "cell_type": "code",
      "metadata": {
        "colab": {
          "base_uri": "https://localhost:8080/"
        },
        "id": "MTBt0_mjx0XM",
        "outputId": "c428cb4e-12b6-4a7f-d896-c020a62ce23e"
      },
      "source": [
        "dt_int32"
      ],
      "execution_count": 19,
      "outputs": [
        {
          "output_type": "execute_result",
          "data": {
            "text/plain": [
              "dtype('int32')"
            ]
          },
          "metadata": {
            "tags": []
          },
          "execution_count": 19
        }
      ]
    },
    {
      "cell_type": "code",
      "metadata": {
        "colab": {
          "base_uri": "https://localhost:8080/"
        },
        "id": "J7lroh5_2M5V",
        "outputId": "d7dab7fc-fdc4-4eb4-f28e-fb0b78d7660a"
      },
      "source": [
        "dt_int32_v2"
      ],
      "execution_count": 20,
      "outputs": [
        {
          "output_type": "execute_result",
          "data": {
            "text/plain": [
              "dtype('int32')"
            ]
          },
          "metadata": {
            "tags": []
          },
          "execution_count": 20
        }
      ]
    },
    {
      "cell_type": "markdown",
      "metadata": {
        "id": "jITr9hxV2mg1"
      },
      "source": [
        "## dtype attribute \n",
        "\n",
        "Check if the `dt_int32` is a built-in data type\n",
        "\n",
        "For additional info check the [the official documentation](https://numpy.org/doc/stable/reference/generated/numpy.dtype.isbuiltin.html#numpy.dtype.isbuiltin)"
      ]
    },
    {
      "cell_type": "code",
      "metadata": {
        "colab": {
          "base_uri": "https://localhost:8080/"
        },
        "id": "W22CkdVcyMua",
        "outputId": "438f8d6f-ad8d-4e00-f1ef-389d53ade2b5"
      },
      "source": [
        "dt_int32.isbuiltin"
      ],
      "execution_count": 23,
      "outputs": [
        {
          "output_type": "execute_result",
          "data": {
            "text/plain": [
              "1"
            ]
          },
          "metadata": {
            "tags": []
          },
          "execution_count": 23
        }
      ]
    },
    {
      "cell_type": "markdown",
      "metadata": {
        "id": "vwZUndMj9E7X"
      },
      "source": [
        "## Data conversion using data-types as conversion functions"
      ]
    },
    {
      "cell_type": "markdown",
      "metadata": {
        "id": "9HsHWvEZ98UB"
      },
      "source": [
        "**Conversion of an int value to float**"
      ]
    },
    {
      "cell_type": "code",
      "metadata": {
        "id": "-LwJ2ChC0Syn"
      },
      "source": [
        "x = np.float32(1)"
      ],
      "execution_count": 31,
      "outputs": []
    },
    {
      "cell_type": "code",
      "metadata": {
        "colab": {
          "base_uri": "https://localhost:8080/"
        },
        "id": "Cs2r7-a59NwJ",
        "outputId": "cfdf22eb-1abf-43cc-9d3c-1af4789acc27"
      },
      "source": [
        "x"
      ],
      "execution_count": 32,
      "outputs": [
        {
          "output_type": "execute_result",
          "data": {
            "text/plain": [
              "1.0"
            ]
          },
          "metadata": {
            "tags": []
          },
          "execution_count": 32
        }
      ]
    },
    {
      "cell_type": "markdown",
      "metadata": {
        "id": "J19jQOy--dtm"
      },
      "source": [
        "**Conversion of an array of int values to an array of float**\n",
        "\n",
        "\n",
        "\n"
      ]
    },
    {
      "cell_type": "code",
      "metadata": {
        "id": "gTVTYvEH9VUQ"
      },
      "source": [
        "floatarray = np.float_([1,2,4])"
      ],
      "execution_count": 34,
      "outputs": []
    },
    {
      "cell_type": "code",
      "metadata": {
        "colab": {
          "base_uri": "https://localhost:8080/"
        },
        "id": "GTrkAdZk9lrz",
        "outputId": "1f7d0a1e-8eb5-4edb-b0b5-2b4c8caeebfe"
      },
      "source": [
        "floatarray"
      ],
      "execution_count": 35,
      "outputs": [
        {
          "output_type": "execute_result",
          "data": {
            "text/plain": [
              "array([1., 2., 4.])"
            ]
          },
          "metadata": {
            "tags": []
          },
          "execution_count": 35
        }
      ]
    },
    {
      "cell_type": "markdown",
      "metadata": {
        "id": "MOZNV0YT-lcN"
      },
      "source": [
        "**Creation of an array of complex64 values**"
      ]
    },
    {
      "cell_type": "code",
      "metadata": {
        "id": "S1YCcMls9m0T"
      },
      "source": [
        "array_dtype_complex64 = np.arange(3, dtype=np.complex64)"
      ],
      "execution_count": 38,
      "outputs": []
    },
    {
      "cell_type": "code",
      "metadata": {
        "colab": {
          "base_uri": "https://localhost:8080/"
        },
        "id": "Pms6Ea2B9yKF",
        "outputId": "925fd55a-0f1e-426f-f57d-dfb2507355dc"
      },
      "source": [
        "array_dtype_complex64"
      ],
      "execution_count": 39,
      "outputs": [
        {
          "output_type": "execute_result",
          "data": {
            "text/plain": [
              "array([0.+0.j, 1.+0.j, 2.+0.j], dtype=complex64)"
            ]
          },
          "metadata": {
            "tags": []
          },
          "execution_count": 39
        }
      ]
    },
    {
      "cell_type": "code",
      "metadata": {
        "id": "kE4yYgcx-Ok2"
      },
      "source": [
        ""
      ],
      "execution_count": null,
      "outputs": []
    }
  ]
}