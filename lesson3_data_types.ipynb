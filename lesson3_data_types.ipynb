{
  "nbformat": 4,
  "nbformat_minor": 0,
  "metadata": {
    "colab": {
      "name": "lesson3-data-types.ipynb",
      "provenance": [],
      "collapsed_sections": [],
      "toc_visible": true,
      "authorship_tag": "ABX9TyPE+GzTi8lOuXj7T8RR4HJl"
    },
    "kernelspec": {
      "name": "python3",
      "display_name": "Python 3"
    }
  },
  "cells": [
    {
      "cell_type": "markdown",
      "metadata": {
        "id": "RZ1DITunEVcK"
      },
      "source": [
        "# Lesson 3 - Data Types\n"
      ]
    },
    {
      "cell_type": "markdown",
      "metadata": {
        "id": "ClHPvfBVz15U"
      },
      "source": [
        "## Importing numpy"
      ]
    },
    {
      "cell_type": "code",
      "metadata": {
        "id": "2H9hGP6nEP7X"
      },
      "source": [
        "import numpy as np"
      ],
      "execution_count": 17,
      "outputs": []
    },
    {
      "cell_type": "markdown",
      "metadata": {
        "id": "DQfGXcRXz_YK"
      },
      "source": [
        "## Defintion of a dtype object"
      ]
    },
    {
      "cell_type": "code",
      "metadata": {
        "id": "ku9Q3TXdErAS"
      },
      "source": [
        "dt_int32 = np.dtype('int32')\n",
        "\n",
        "# equivalent alternative\n",
        "dt_int32_v2 = np.dtype(np.int32)"
      ],
      "execution_count": 18,
      "outputs": []
    },
    {
      "cell_type": "code",
      "metadata": {
        "colab": {
          "base_uri": "https://localhost:8080/"
        },
        "id": "MTBt0_mjx0XM",
        "outputId": "7701ee05-6e4d-46a6-e3dc-128daab44c87"
      },
      "source": [
        "dt_int32"
      ],
      "execution_count": 19,
      "outputs": [
        {
          "output_type": "execute_result",
          "data": {
            "text/plain": [
              "dtype('int32')"
            ]
          },
          "metadata": {
            "tags": []
          },
          "execution_count": 19
        }
      ]
    },
    {
      "cell_type": "code",
      "metadata": {
        "colab": {
          "base_uri": "https://localhost:8080/"
        },
        "id": "J7lroh5_2M5V",
        "outputId": "ac6ef754-e4a5-4935-e259-6dd54be179d7"
      },
      "source": [
        "dt_int32_v2"
      ],
      "execution_count": 20,
      "outputs": [
        {
          "output_type": "execute_result",
          "data": {
            "text/plain": [
              "dtype('int32')"
            ]
          },
          "metadata": {
            "tags": []
          },
          "execution_count": 20
        }
      ]
    },
    {
      "cell_type": "markdown",
      "metadata": {
        "id": "jITr9hxV2mg1"
      },
      "source": [
        "## dtype attribute \n",
        "\n",
        "Check if the `dt_int32` is a built-in data type\n",
        "\n",
        "For additional info check the [the official documentation](https://numpy.org/doc/stable/reference/generated/numpy.dtype.isbuiltin.html#numpy.dtype.isbuiltin)"
      ]
    },
    {
      "cell_type": "code",
      "metadata": {
        "colab": {
          "base_uri": "https://localhost:8080/"
        },
        "id": "W22CkdVcyMua",
        "outputId": "32a2b2be-49f4-4855-b121-fb5228240bb9"
      },
      "source": [
        "dt_int32.isbuiltin"
      ],
      "execution_count": 21,
      "outputs": [
        {
          "output_type": "execute_result",
          "data": {
            "text/plain": [
              "1"
            ]
          },
          "metadata": {
            "tags": []
          },
          "execution_count": 21
        }
      ]
    },
    {
      "cell_type": "markdown",
      "metadata": {
        "id": "vwZUndMj9E7X"
      },
      "source": [
        "## Data conversion using data-types as conversion functions"
      ]
    },
    {
      "cell_type": "markdown",
      "metadata": {
        "id": "9HsHWvEZ98UB"
      },
      "source": [
        "**Conversion of an int value to float**"
      ]
    },
    {
      "cell_type": "code",
      "metadata": {
        "id": "-LwJ2ChC0Syn"
      },
      "source": [
        "x = np.float32(1)"
      ],
      "execution_count": 22,
      "outputs": []
    },
    {
      "cell_type": "code",
      "metadata": {
        "colab": {
          "base_uri": "https://localhost:8080/"
        },
        "id": "Cs2r7-a59NwJ",
        "outputId": "148aa6a5-02ff-4522-a656-23411ecc9052"
      },
      "source": [
        "x"
      ],
      "execution_count": 23,
      "outputs": [
        {
          "output_type": "execute_result",
          "data": {
            "text/plain": [
              "1.0"
            ]
          },
          "metadata": {
            "tags": []
          },
          "execution_count": 23
        }
      ]
    },
    {
      "cell_type": "markdown",
      "metadata": {
        "id": "J19jQOy--dtm"
      },
      "source": [
        "**Conversion of an array of int values to an array of float**\n",
        "\n",
        "\n",
        "\n"
      ]
    },
    {
      "cell_type": "code",
      "metadata": {
        "id": "gTVTYvEH9VUQ"
      },
      "source": [
        "floatarray = np.float_([1,2,4])"
      ],
      "execution_count": 24,
      "outputs": []
    },
    {
      "cell_type": "code",
      "metadata": {
        "colab": {
          "base_uri": "https://localhost:8080/"
        },
        "id": "GTrkAdZk9lrz",
        "outputId": "ecdb491d-4c92-4119-cf76-3e85ad6254e8"
      },
      "source": [
        "floatarray"
      ],
      "execution_count": 25,
      "outputs": [
        {
          "output_type": "execute_result",
          "data": {
            "text/plain": [
              "array([1., 2., 4.])"
            ]
          },
          "metadata": {
            "tags": []
          },
          "execution_count": 25
        }
      ]
    },
    {
      "cell_type": "markdown",
      "metadata": {
        "id": "MOZNV0YT-lcN"
      },
      "source": [
        "**Creation of an array of complex64 values**"
      ]
    },
    {
      "cell_type": "code",
      "metadata": {
        "id": "S1YCcMls9m0T"
      },
      "source": [
        "array_dtype_complex64 = np.arange(3, dtype=np.complex64)"
      ],
      "execution_count": 26,
      "outputs": []
    },
    {
      "cell_type": "code",
      "metadata": {
        "colab": {
          "base_uri": "https://localhost:8080/"
        },
        "id": "Pms6Ea2B9yKF",
        "outputId": "f6e406cc-fdef-4945-bf4b-728de572de6a"
      },
      "source": [
        "array_dtype_complex64"
      ],
      "execution_count": 27,
      "outputs": [
        {
          "output_type": "execute_result",
          "data": {
            "text/plain": [
              "array([0.+0.j, 1.+0.j, 2.+0.j], dtype=complex64)"
            ]
          },
          "metadata": {
            "tags": []
          },
          "execution_count": 27
        }
      ]
    },
    {
      "cell_type": "code",
      "metadata": {
        "colab": {
          "base_uri": "https://localhost:8080/"
        },
        "id": "kE4yYgcx-Ok2",
        "outputId": "7b61af3d-e7b6-4f3a-cdf9-4815a8cdb943"
      },
      "source": [
        "array_dtype_complex64.dtype"
      ],
      "execution_count": 28,
      "outputs": [
        {
          "output_type": "execute_result",
          "data": {
            "text/plain": [
              "dtype('complex64')"
            ]
          },
          "metadata": {
            "tags": []
          },
          "execution_count": 28
        }
      ]
    },
    {
      "cell_type": "markdown",
      "metadata": {
        "id": "tGbdY4Re_cNz"
      },
      "source": [
        "## Array-protocol type strings"
      ]
    },
    {
      "cell_type": "markdown",
      "metadata": {
        "id": "HxZdYUSUAPMF"
      },
      "source": [
        "**Definition of a 32-bit signed integer**"
      ]
    },
    {
      "cell_type": "code",
      "metadata": {
        "colab": {
          "base_uri": "https://localhost:8080/"
        },
        "id": "Zfn7OYgF_P6W",
        "outputId": "4539f1be-b741-441b-d34e-ec61a1423ad8"
      },
      "source": [
        "dt = np.dtype('i4')   # 32-bit signed integer\n",
        "dt"
      ],
      "execution_count": 29,
      "outputs": [
        {
          "output_type": "execute_result",
          "data": {
            "text/plain": [
              "dtype('int32')"
            ]
          },
          "metadata": {
            "tags": []
          },
          "execution_count": 29
        }
      ]
    },
    {
      "cell_type": "markdown",
      "metadata": {
        "id": "hx_5v8tpAXU2"
      },
      "source": [
        "**Definition of a 64-bit floating-point number**"
      ]
    },
    {
      "cell_type": "code",
      "metadata": {
        "colab": {
          "base_uri": "https://localhost:8080/"
        },
        "id": "EW5U-sST_i8u",
        "outputId": "cfda4cf0-be52-4c52-8bbe-376325a8a0ca"
      },
      "source": [
        "dt = np.dtype('f8')   # 64-bit floating-point number\n",
        "dt"
      ],
      "execution_count": 30,
      "outputs": [
        {
          "output_type": "execute_result",
          "data": {
            "text/plain": [
              "dtype('float64')"
            ]
          },
          "metadata": {
            "tags": []
          },
          "execution_count": 30
        }
      ]
    },
    {
      "cell_type": "markdown",
      "metadata": {
        "id": "6ZRUeQFLAegh"
      },
      "source": [
        "**Creation of an array composed of 3 complex16 values**"
      ]
    },
    {
      "cell_type": "code",
      "metadata": {
        "colab": {
          "base_uri": "https://localhost:8080/"
        },
        "id": "7zpjPO5j_vIJ",
        "outputId": "02f014fa-f5e3-4dd7-be77-9317e52a46f4"
      },
      "source": [
        "complex_array = np.arange(3, dtype=np.dtype('c16'))\n",
        "complex_array"
      ],
      "execution_count": 31,
      "outputs": [
        {
          "output_type": "execute_result",
          "data": {
            "text/plain": [
              "array([0.+0.j, 1.+0.j, 2.+0.j])"
            ]
          },
          "metadata": {
            "tags": []
          },
          "execution_count": 31
        }
      ]
    },
    {
      "cell_type": "code",
      "metadata": {
        "id": "ZzCJ04ZP_z93",
        "colab": {
          "base_uri": "https://localhost:8080/"
        },
        "outputId": "64e1a40f-2ab3-4a9f-9a68-96e2d020ddf1"
      },
      "source": [
        "complex_array.dtype"
      ],
      "execution_count": 32,
      "outputs": [
        {
          "output_type": "execute_result",
          "data": {
            "text/plain": [
              "dtype('complex128')"
            ]
          },
          "metadata": {
            "tags": []
          },
          "execution_count": 32
        }
      ]
    },
    {
      "cell_type": "code",
      "metadata": {
        "id": "_YQ7nRdhoCxd"
      },
      "source": [
        ""
      ],
      "execution_count": null,
      "outputs": []
    }
  ]
}