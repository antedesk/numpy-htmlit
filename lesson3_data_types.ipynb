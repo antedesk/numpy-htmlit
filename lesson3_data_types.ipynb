{
  "nbformat": 4,
  "nbformat_minor": 0,
  "metadata": {
    "colab": {
      "name": "lesson3-data-types.ipynb",
      "provenance": [],
      "toc_visible": true,
      "authorship_tag": "ABX9TyMSPiCHpQjF/BSAA+smTc14"
    },
    "kernelspec": {
      "name": "python3",
      "display_name": "Python 3"
    }
  },
  "cells": [
    {
      "cell_type": "markdown",
      "metadata": {
        "id": "RZ1DITunEVcK"
      },
      "source": [
        "# Lesson 3 - Data Types\n"
      ]
    },
    {
      "cell_type": "markdown",
      "metadata": {
        "id": "ClHPvfBVz15U"
      },
      "source": [
        "## Importing numpy"
      ]
    },
    {
      "cell_type": "code",
      "metadata": {
        "id": "2H9hGP6nEP7X"
      },
      "source": [
        "import numpy as np"
      ],
      "execution_count": 8,
      "outputs": []
    },
    {
      "cell_type": "markdown",
      "metadata": {
        "id": "DQfGXcRXz_YK"
      },
      "source": [
        "## Defintion of a dtype object"
      ]
    },
    {
      "cell_type": "code",
      "metadata": {
        "id": "ku9Q3TXdErAS"
      },
      "source": [
        "dt_int32 = np.dtype('int32')\n",
        "\n",
        "# equivalent alternative\n",
        "dt_int32_v2 = np.dtype(np.int32)"
      ],
      "execution_count": 24,
      "outputs": []
    },
    {
      "cell_type": "code",
      "metadata": {
        "colab": {
          "base_uri": "https://localhost:8080/"
        },
        "id": "MTBt0_mjx0XM",
        "outputId": "c428cb4e-12b6-4a7f-d896-c020a62ce23e"
      },
      "source": [
        "dt_int32"
      ],
      "execution_count": 19,
      "outputs": [
        {
          "output_type": "execute_result",
          "data": {
            "text/plain": [
              "dtype('int32')"
            ]
          },
          "metadata": {
            "tags": []
          },
          "execution_count": 19
        }
      ]
    },
    {
      "cell_type": "code",
      "metadata": {
        "colab": {
          "base_uri": "https://localhost:8080/"
        },
        "id": "J7lroh5_2M5V",
        "outputId": "d7dab7fc-fdc4-4eb4-f28e-fb0b78d7660a"
      },
      "source": [
        "dt_int32_v2"
      ],
      "execution_count": 20,
      "outputs": [
        {
          "output_type": "execute_result",
          "data": {
            "text/plain": [
              "dtype('int32')"
            ]
          },
          "metadata": {
            "tags": []
          },
          "execution_count": 20
        }
      ]
    },
    {
      "cell_type": "markdown",
      "metadata": {
        "id": "jITr9hxV2mg1"
      },
      "source": [
        "## dtype attribute \n",
        "\n",
        "Check if the `dt_int32` is a built-in data type\n",
        "\n",
        "For additional info check the [the official documentation](https://numpy.org/doc/stable/reference/generated/numpy.dtype.isbuiltin.html#numpy.dtype.isbuiltin)"
      ]
    },
    {
      "cell_type": "code",
      "metadata": {
        "colab": {
          "base_uri": "https://localhost:8080/"
        },
        "id": "W22CkdVcyMua",
        "outputId": "438f8d6f-ad8d-4e00-f1ef-389d53ade2b5"
      },
      "source": [
        "dt_int32.isbuiltin"
      ],
      "execution_count": 23,
      "outputs": [
        {
          "output_type": "execute_result",
          "data": {
            "text/plain": [
              "1"
            ]
          },
          "metadata": {
            "tags": []
          },
          "execution_count": 23
        }
      ]
    },
    {
      "cell_type": "code",
      "metadata": {
        "id": "-LwJ2ChC0Syn"
      },
      "source": [
        ""
      ],
      "execution_count": null,
      "outputs": []
    }
  ]
}