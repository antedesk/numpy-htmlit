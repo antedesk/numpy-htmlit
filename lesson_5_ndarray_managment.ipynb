{
  "nbformat": 4,
  "nbformat_minor": 0,
  "metadata": {
    "colab": {
      "name": "lesson-5-ndarray-managment.ipynb",
      "provenance": [],
      "collapsed_sections": [],
      "authorship_tag": "ABX9TyOPYBK5l3TNHW8jV37QBGXZ"
    },
    "kernelspec": {
      "name": "python3",
      "display_name": "Python 3"
    },
    "language_info": {
      "name": "python"
    }
  },
  "cells": [
    {
      "cell_type": "markdown",
      "metadata": {
        "id": "HENv4yfwtuTR"
      },
      "source": [
        "Lesson 5 - Creating and managing `ndarray`"
      ]
    },
    {
      "cell_type": "code",
      "metadata": {
        "id": "80bwOneMqpm9"
      },
      "source": [
        "import numpy as np"
      ],
      "execution_count": null,
      "outputs": []
    },
    {
      "cell_type": "markdown",
      "metadata": {
        "id": "4PcQZIHVt7dT"
      },
      "source": [
        "## Creating ndarray using built-in method"
      ]
    },
    {
      "cell_type": "code",
      "metadata": {
        "colab": {
          "base_uri": "https://localhost:8080/"
        },
        "id": "j3rK7X3UufMn",
        "outputId": "b565bfe0-e190-4939-9423-204f06359054"
      },
      "source": [
        "# matrix of zeros\n",
        "zeros_matrix = np.zeros((3,4))\n",
        "zeros_matrix"
      ],
      "execution_count": null,
      "outputs": [
        {
          "output_type": "execute_result",
          "data": {
            "text/plain": [
              "array([[0., 0., 0., 0.],\n",
              "       [0., 0., 0., 0.],\n",
              "       [0., 0., 0., 0.]])"
            ]
          },
          "metadata": {
            "tags": []
          },
          "execution_count": 5
        }
      ]
    },
    {
      "cell_type": "code",
      "metadata": {
        "colab": {
          "base_uri": "https://localhost:8080/"
        },
        "id": "tfPNy-Wuu2F9",
        "outputId": "bbbef4a1-0e1a-442f-e95a-d830dfc38296"
      },
      "source": [
        "# matrix of ones\n",
        "ones_matrix = np.ones((3,2))\n",
        "ones_matrix"
      ],
      "execution_count": null,
      "outputs": [
        {
          "output_type": "execute_result",
          "data": {
            "text/plain": [
              "array([[1., 1.],\n",
              "       [1., 1.],\n",
              "       [1., 1.]])"
            ]
          },
          "metadata": {
            "tags": []
          },
          "execution_count": 8
        }
      ]
    },
    {
      "cell_type": "code",
      "metadata": {
        "colab": {
          "base_uri": "https://localhost:8080/"
        },
        "id": "6US8ykRVvvJZ",
        "outputId": "7564c89b-2030-4f10-8d1e-f2f1ac065b37"
      },
      "source": [
        "full_matrix = np.full((2,3), 5)\n",
        "full_matrix"
      ],
      "execution_count": null,
      "outputs": [
        {
          "output_type": "execute_result",
          "data": {
            "text/plain": [
              "array([[5, 5, 5],\n",
              "       [5, 5, 5]])"
            ]
          },
          "metadata": {
            "tags": []
          },
          "execution_count": 13
        }
      ]
    },
    {
      "cell_type": "code",
      "metadata": {
        "colab": {
          "base_uri": "https://localhost:8080/"
        },
        "id": "QPf_yq2yuMOw",
        "outputId": "3a31b0eb-9a23-4f76-e163-435bda6433b9"
      },
      "source": [
        "print(f'Element type of zeros_matrix: {zeros_matrix.dtype}')\n",
        "print(f'Element type of ones_matrix: {ones_matrix.dtype}')\n",
        "print(f'Element type of ones_matrix: {full_matrix.dtype}')"
      ],
      "execution_count": null,
      "outputs": [
        {
          "output_type": "stream",
          "text": [
            "Element type of zeros_matrix: float64\n",
            "Element type of ones_matrix: float64\n",
            "Element type of ones_matrix: int64\n"
          ],
          "name": "stdout"
        }
      ]
    },
    {
      "cell_type": "code",
      "metadata": {
        "colab": {
          "base_uri": "https://localhost:8080/"
        },
        "id": "gqCweoqLvAFe",
        "outputId": "8e75c6d4-c3ad-4c8e-e336-638bd99174e5"
      },
      "source": [
        "#Identity matrix\n",
        "identity_matrix = np.eye(3)\n",
        "identity_matrix"
      ],
      "execution_count": null,
      "outputs": [
        {
          "output_type": "execute_result",
          "data": {
            "text/plain": [
              "array([[1., 0., 0.],\n",
              "       [0., 1., 0.],\n",
              "       [0., 0., 1.]])"
            ]
          },
          "metadata": {
            "tags": []
          },
          "execution_count": 17
        }
      ]
    },
    {
      "cell_type": "code",
      "metadata": {
        "colab": {
          "base_uri": "https://localhost:8080/"
        },
        "id": "vd42m8KMwWC4",
        "outputId": "eb4344c7-dfc6-44d2-8e56-b5afea7c5914"
      },
      "source": [
        "diagonal_matrix = np.diag([1,2,3,4])\n",
        "diagonal_matrix"
      ],
      "execution_count": null,
      "outputs": [
        {
          "output_type": "execute_result",
          "data": {
            "text/plain": [
              "array([[1, 0, 0, 0],\n",
              "       [0, 2, 0, 0],\n",
              "       [0, 0, 3, 0],\n",
              "       [0, 0, 0, 4]])"
            ]
          },
          "metadata": {
            "tags": []
          },
          "execution_count": 18
        }
      ]
    },
    {
      "cell_type": "code",
      "metadata": {
        "colab": {
          "base_uri": "https://localhost:8080/"
        },
        "id": "9vWFRyfvt8ce",
        "outputId": "4c587d64-a3f3-4d78-9b5f-53ef9f35160f"
      },
      "source": [
        "#using arange\n",
        "vect1 = np.arange(10)\n",
        "vect1"
      ],
      "execution_count": null,
      "outputs": [
        {
          "output_type": "execute_result",
          "data": {
            "text/plain": [
              "array([0, 1, 2, 3, 4, 5, 6, 7, 8, 9])"
            ]
          },
          "metadata": {
            "tags": []
          },
          "execution_count": 19
        }
      ]
    },
    {
      "cell_type": "code",
      "metadata": {
        "colab": {
          "base_uri": "https://localhost:8080/"
        },
        "id": "G77yvRzDwiDp",
        "outputId": "b9836478-635c-446a-a3d2-00d805d13a98"
      },
      "source": [
        "vect2 = np.arange(4.1, 9)\n",
        "vect2"
      ],
      "execution_count": null,
      "outputs": [
        {
          "output_type": "execute_result",
          "data": {
            "text/plain": [
              "array([4.1, 5.1, 6.1, 7.1, 8.1])"
            ]
          },
          "metadata": {
            "tags": []
          },
          "execution_count": 3
        }
      ]
    },
    {
      "cell_type": "code",
      "metadata": {
        "colab": {
          "base_uri": "https://localhost:8080/"
        },
        "id": "d-PNd4SMePmw",
        "outputId": "1c2a63f5-e0c6-436b-9c5d-db8718c43837"
      },
      "source": [
        "vect = np.arange(1,14,3)\n",
        "vect"
      ],
      "execution_count": null,
      "outputs": [
        {
          "output_type": "execute_result",
          "data": {
            "text/plain": [
              "array([ 1,  4,  7, 10, 13])"
            ]
          },
          "metadata": {
            "tags": []
          },
          "execution_count": 4
        }
      ]
    },
    {
      "cell_type": "markdown",
      "metadata": {
        "id": "3lxAURBAxzK1"
      },
      "source": [
        "A good alternative to `np.arange` is `np.linspace` function which works better than `np.arange` due to the finite floating point precision.\n",
        "\n",
        "Moreover, `np.linspace` uses the number of elements we want in a particular interval, instead of the step between values."
      ]
    },
    {
      "cell_type": "code",
      "metadata": {
        "colab": {
          "base_uri": "https://localhost:8080/"
        },
        "id": "0SvttsobxmCO",
        "outputId": "3b2dd7b2-294f-464c-b2ed-52ba643b3004"
      },
      "source": [
        "# We create a rank 1 ndarray that has 10 integers evenly spaced between 0 and 25.\n",
        "vect3 = np.linspace(0,25,10)\n",
        "vect3"
      ],
      "execution_count": null,
      "outputs": [
        {
          "output_type": "execute_result",
          "data": {
            "text/plain": [
              "array([ 0.        ,  2.77777778,  5.55555556,  8.33333333, 11.11111111,\n",
              "       13.88888889, 16.66666667, 19.44444444, 22.22222222, 25.        ])"
            ]
          },
          "metadata": {
            "tags": []
          },
          "execution_count": 25
        }
      ]
    },
    {
      "cell_type": "code",
      "metadata": {
        "colab": {
          "base_uri": "https://localhost:8080/"
        },
        "id": "R6Vhtb227wHn",
        "outputId": "d6b82424-ec65-40e7-e32a-6f692cdeca07"
      },
      "source": [
        "# using np.random.random\n",
        "rand_matrix = np.random.random((3,3))\n",
        "rand_matrix"
      ],
      "execution_count": null,
      "outputs": [
        {
          "output_type": "execute_result",
          "data": {
            "text/plain": [
              "array([[0.38092162, 0.22859676, 0.96004006],\n",
              "       [0.6855616 , 0.70534742, 0.05605433],\n",
              "       [0.72397115, 0.40938473, 0.94926686]])"
            ]
          },
          "metadata": {
            "tags": []
          },
          "execution_count": 70
        }
      ]
    },
    {
      "cell_type": "code",
      "metadata": {
        "colab": {
          "base_uri": "https://localhost:8080/"
        },
        "id": "VEfiRXr78Gct",
        "outputId": "d2e97af2-b290-4f3c-e475-1627a50431e2"
      },
      "source": [
        "# using np.random.randint\n",
        "rand_matrix = np.random.randint(4, 13, (3,3))\n",
        "rand_matrix"
      ],
      "execution_count": null,
      "outputs": [
        {
          "output_type": "execute_result",
          "data": {
            "text/plain": [
              "array([[ 6,  9,  8],\n",
              "       [11, 11,  6],\n",
              "       [12,  4,  6]])"
            ]
          },
          "metadata": {
            "tags": []
          },
          "execution_count": 73
        }
      ]
    },
    {
      "cell_type": "code",
      "metadata": {
        "colab": {
          "base_uri": "https://localhost:8080/"
        },
        "id": "DQcJQCQ_8WCb",
        "outputId": "1390751b-18e7-4c92-8f62-beb36fc3e009"
      },
      "source": [
        "# We create a 1000 x 1000 ndarray of random floats drawn from normal (Gaussian) distribution\n",
        "# with a mean of zero and a standard deviation of 0.1.\n",
        "X = np.random.normal(0, 0.1, size=(1000,1000))\n",
        "\n",
        "# We print information about X\n",
        "print('X has dimensions:', X.shape)\n",
        "print('X is an object of type:', type(X))\n",
        "print('The elements in X are of type:', X.dtype)\n",
        "print('The elements in X have a mean of:', X.mean())\n",
        "print('The maximum value in X is:', X.max())\n",
        "print('The minimum value in X is:', X.min())\n",
        "print('X has', (X < 0).sum(), 'negative numbers')\n",
        "print('X has', (X > 0).sum(), 'positive numbers')"
      ],
      "execution_count": null,
      "outputs": [
        {
          "output_type": "stream",
          "text": [
            "X has dimensions: (1000, 1000)\n",
            "X is an object of type: <class 'numpy.ndarray'>\n",
            "The elements in X are of type: float64\n",
            "The elements in X have a mean of: 4.259648934252423e-05\n",
            "The maximum value in X is: 0.47986332291984274\n",
            "The minimum value in X is: -0.4519409436150761\n",
            "X has 499484 negative numbers\n",
            "X has 500516 positive numbers\n"
          ],
          "name": "stdout"
        }
      ]
    },
    {
      "cell_type": "markdown",
      "metadata": {
        "id": "P8LK0QVky2Wo"
      },
      "source": [
        "## Reshape operation"
      ]
    },
    {
      "cell_type": "code",
      "metadata": {
        "colab": {
          "base_uri": "https://localhost:8080/"
        },
        "id": "CwBtOlbIyZ0B",
        "outputId": "60a4cf94-b345-4170-e2c5-60dad152492f"
      },
      "source": [
        "# from vector to matrix\n",
        "vector = np.arange(20)\n",
        "vect2matrix = np.reshape(vector, (4,5))\n",
        "vect2matrix"
      ],
      "execution_count": null,
      "outputs": [
        {
          "output_type": "execute_result",
          "data": {
            "text/plain": [
              "array([[ 0,  1,  2,  3,  4],\n",
              "       [ 5,  6,  7,  8,  9],\n",
              "       [10, 11, 12, 13, 14],\n",
              "       [15, 16, 17, 18, 19]])"
            ]
          },
          "metadata": {
            "tags": []
          },
          "execution_count": 79
        }
      ]
    },
    {
      "cell_type": "code",
      "metadata": {
        "colab": {
          "base_uri": "https://localhost:8080/"
        },
        "id": "B6fnde_H9B_5",
        "outputId": "a7287620-3e28-409c-de0b-470877c3eeee"
      },
      "source": [
        "#from matrix to vector by row 'C-style'\n",
        "vect2matrix.flatten()"
      ],
      "execution_count": null,
      "outputs": [
        {
          "output_type": "execute_result",
          "data": {
            "text/plain": [
              "array([ 0,  1,  2,  3,  4,  5,  6,  7,  8,  9, 10, 11, 12, 13, 14, 15, 16,\n",
              "       17, 18, 19])"
            ]
          },
          "metadata": {
            "tags": []
          },
          "execution_count": 82
        }
      ]
    },
    {
      "cell_type": "code",
      "metadata": {
        "colab": {
          "base_uri": "https://localhost:8080/"
        },
        "id": "_JKlWVM99o6O",
        "outputId": "506ef4e6-7c34-45ee-ce31-3afc1dfee746"
      },
      "source": [
        "vect2matrix.flatten(order='F')"
      ],
      "execution_count": null,
      "outputs": [
        {
          "output_type": "execute_result",
          "data": {
            "text/plain": [
              "array([ 0,  5, 10, 15,  1,  6, 11, 16,  2,  7, 12, 17,  3,  8, 13, 18,  4,\n",
              "        9, 14, 19])"
            ]
          },
          "metadata": {
            "tags": []
          },
          "execution_count": 83
        }
      ]
    },
    {
      "cell_type": "markdown",
      "metadata": {
        "id": "vuHikliJy93d"
      },
      "source": [
        "## Accessing, Deleting and Inserting elements "
      ]
    },
    {
      "cell_type": "markdown",
      "metadata": {
        "id": "bugae8Srz5dE"
      },
      "source": [
        "Accessing data in a vector and matrix"
      ]
    },
    {
      "cell_type": "code",
      "metadata": {
        "colab": {
          "base_uri": "https://localhost:8080/"
        },
        "id": "CdsdwOhjzFS5",
        "outputId": "b5b5dc6b-d09a-401c-9bc3-7fbb6d15df0d"
      },
      "source": [
        "# accessing data in a vector\n",
        "vect = np.array([1, 2, 3, 4, 5])\n",
        "print('Third element in vect:', vect[2])\n",
        "print('Last element in vect:', vect[-1])"
      ],
      "execution_count": null,
      "outputs": [
        {
          "output_type": "stream",
          "text": [
            "Third element in vect: 3\n",
            "Last element in vect: 5\n"
          ],
          "name": "stdout"
        }
      ]
    },
    {
      "cell_type": "code",
      "metadata": {
        "colab": {
          "base_uri": "https://localhost:8080/"
        },
        "id": "vqHMvn1LzYuY",
        "outputId": "0d2e64cf-82b4-476f-e934-e8dff88b0e0e"
      },
      "source": [
        "# accessing data in a matrix\n",
        "matrix = np.array([[1,2,3],[4,5,6],[7,8,9]])\n",
        "print('Element in position (0,1):', matrix[0,1])"
      ],
      "execution_count": null,
      "outputs": [
        {
          "output_type": "stream",
          "text": [
            "Element in position (0,1): 2\n"
          ],
          "name": "stdout"
        }
      ]
    },
    {
      "cell_type": "markdown",
      "metadata": {
        "id": "pgHvTKtaz8O-"
      },
      "source": [
        "Deleting data from a vector and matrix"
      ]
    },
    {
      "cell_type": "code",
      "metadata": {
        "colab": {
          "base_uri": "https://localhost:8080/"
        },
        "id": "iwoVVI4hzshX",
        "outputId": "16892f57-c415-4cf5-f136-ccb64e762b5e"
      },
      "source": [
        "np.delete(vect, [0,2])"
      ],
      "execution_count": null,
      "outputs": [
        {
          "output_type": "execute_result",
          "data": {
            "text/plain": [
              "array([2, 4, 5])"
            ]
          },
          "metadata": {
            "tags": []
          },
          "execution_count": 8
        }
      ]
    },
    {
      "cell_type": "code",
      "metadata": {
        "colab": {
          "base_uri": "https://localhost:8080/"
        },
        "id": "zzt7lJDA0T19",
        "outputId": "d5bae440-17ea-49f5-db1c-ebe9ded75349"
      },
      "source": [
        "# deleting a row (set axis to 0)\n",
        "np.delete(matrix, [0,0], axis=0)"
      ],
      "execution_count": null,
      "outputs": [
        {
          "output_type": "execute_result",
          "data": {
            "text/plain": [
              "array([[4, 5, 6],\n",
              "       [7, 8, 9]])"
            ]
          },
          "metadata": {
            "tags": []
          },
          "execution_count": 41
        }
      ]
    },
    {
      "cell_type": "code",
      "metadata": {
        "colab": {
          "base_uri": "https://localhost:8080/"
        },
        "id": "jxz68KPT0gHY",
        "outputId": "a749fd1d-f3ca-4795-bab4-5bf34fe725c1"
      },
      "source": [
        "# deleting a column (set axis to 1)\n",
        "np.delete(matrix, [0,0], axis=1)"
      ],
      "execution_count": null,
      "outputs": [
        {
          "output_type": "execute_result",
          "data": {
            "text/plain": [
              "array([[2, 3],\n",
              "       [5, 6],\n",
              "       [8, 9]])"
            ]
          },
          "metadata": {
            "tags": []
          },
          "execution_count": 42
        }
      ]
    },
    {
      "cell_type": "markdown",
      "metadata": {
        "id": "LJ121Ibx1MKs"
      },
      "source": [
        "Appending data to vector and matrix"
      ]
    },
    {
      "cell_type": "code",
      "metadata": {
        "colab": {
          "base_uri": "https://localhost:8080/"
        },
        "id": "mncTx0kH1C-7",
        "outputId": "ec3837ac-2007-4cc5-cb3f-b630d3600436"
      },
      "source": [
        "np.append(vect, 6)"
      ],
      "execution_count": null,
      "outputs": [
        {
          "output_type": "execute_result",
          "data": {
            "text/plain": [
              "array([1, 2, 3, 4, 5, 6])"
            ]
          },
          "metadata": {
            "tags": []
          },
          "execution_count": 44
        }
      ]
    },
    {
      "cell_type": "code",
      "metadata": {
        "colab": {
          "base_uri": "https://localhost:8080/"
        },
        "id": "ysqVlTF11ZiU",
        "outputId": "8bd93a69-2507-44e8-ee52-6ecbd8aadea3"
      },
      "source": [
        "# on the row\n",
        "np.append(matrix, [[10, 11, 12]], axis=0)"
      ],
      "execution_count": null,
      "outputs": [
        {
          "output_type": "execute_result",
          "data": {
            "text/plain": [
              "array([[ 1,  2,  3],\n",
              "       [ 4,  5,  6],\n",
              "       [ 7,  8,  9],\n",
              "       [10, 11, 12]])"
            ]
          },
          "metadata": {
            "tags": []
          },
          "execution_count": 47
        }
      ]
    },
    {
      "cell_type": "code",
      "metadata": {
        "colab": {
          "base_uri": "https://localhost:8080/"
        },
        "id": "rzKVmuuS1i-x",
        "outputId": "152887d4-7bd0-4bad-c712-6612a7e619f2"
      },
      "source": [
        "# on the column\n",
        "np.append(matrix, [[10], [11], [12]], axis=1)"
      ],
      "execution_count": null,
      "outputs": [
        {
          "output_type": "execute_result",
          "data": {
            "text/plain": [
              "array([[ 1,  2,  3, 10],\n",
              "       [ 4,  5,  6, 11],\n",
              "       [ 7,  8,  9, 12]])"
            ]
          },
          "metadata": {
            "tags": []
          },
          "execution_count": 51
        }
      ]
    },
    {
      "cell_type": "markdown",
      "metadata": {
        "id": "UzK_NHay17_m"
      },
      "source": [
        "Inserting data into a vector or matrix"
      ]
    },
    {
      "cell_type": "code",
      "metadata": {
        "colab": {
          "base_uri": "https://localhost:8080/"
        },
        "id": "k2aLNuRW1y5H",
        "outputId": "c336e880-d17b-47c8-bf58-befa6ee83ef5"
      },
      "source": [
        "# insert elements before index vect[2]\n",
        "np.insert(vect, 2, [10, 11])"
      ],
      "execution_count": null,
      "outputs": [
        {
          "output_type": "execute_result",
          "data": {
            "text/plain": [
              "array([ 1,  2, 10, 11,  3,  4,  5])"
            ]
          },
          "metadata": {
            "tags": []
          },
          "execution_count": 9
        }
      ]
    },
    {
      "cell_type": "code",
      "metadata": {
        "colab": {
          "base_uri": "https://localhost:8080/"
        },
        "id": "xmcukrYy2Jix",
        "outputId": "dda5bfe1-6559-4245-d156-df448ba27bae"
      },
      "source": [
        "np.insert(matrix,1,[10,11,12],axis=0)"
      ],
      "execution_count": null,
      "outputs": [
        {
          "output_type": "execute_result",
          "data": {
            "text/plain": [
              "array([[ 1,  2,  3],\n",
              "       [10, 11, 12],\n",
              "       [ 4,  5,  6],\n",
              "       [ 7,  8,  9]])"
            ]
          },
          "metadata": {
            "tags": []
          },
          "execution_count": 62
        }
      ]
    },
    {
      "cell_type": "code",
      "metadata": {
        "colab": {
          "base_uri": "https://localhost:8080/"
        },
        "id": "Nq1YPH9l2s3x",
        "outputId": "7684f800-0997-4530-aeb4-3ae559730b3c"
      },
      "source": [
        "np.insert(matrix,1,1, axis=1)"
      ],
      "execution_count": null,
      "outputs": [
        {
          "output_type": "execute_result",
          "data": {
            "text/plain": [
              "array([[1, 1, 2, 3],\n",
              "       [4, 1, 5, 6],\n",
              "       [7, 1, 8, 9]])"
            ]
          },
          "metadata": {
            "tags": []
          },
          "execution_count": 65
        }
      ]
    },
    {
      "cell_type": "code",
      "metadata": {
        "id": "AkxZzWb62--1"
      },
      "source": [
        ""
      ],
      "execution_count": null,
      "outputs": []
    }
  ]
}